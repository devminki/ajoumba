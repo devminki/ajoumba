{
 "cells": [
  {
   "cell_type": "code",
   "execution_count": null,
   "id": "22ea8bdc-8332-4acc-bd8a-0b1be6d32553",
   "metadata": {},
   "outputs": [],
   "source": [
    "## PR6 자료구조 김민기"
   ]
  },
  {
   "cell_type": "code",
   "execution_count": 13,
   "id": "595405b7-7031-4e9e-a9dd-37d7c90b7b1f",
   "metadata": {},
   "outputs": [
    {
     "name": "stdout",
     "output_type": "stream",
     "text": [
      "[1, 2, 3, 4, 5, 10, 20]\n",
      "[1, 2, 3, 4, 5, 10]\n",
      "[1, 2, 3, 4, 5]\n",
      "[1, 2, 3, 4]\n",
      "[2, 3, 4]\n",
      "[3, 4]\n"
     ]
    }
   ],
   "source": [
    "#스택\n",
    "a=[1,2,3,4,5]\n",
    "a.append(10)\n",
    "a.append(20)\n",
    "print(a)\n",
    "a.pop()\n",
    "print(a)\n",
    "a.pop()\n",
    "print(a)\n",
    "a.pop() #pop은 제일 뒤에 있는것을 하나씩 제거할때 쓴다.\n",
    "print(a)\n",
    "\n",
    "#큐 (앞에서 부터 지워짐)\n",
    "a.pop(0)\n",
    "print(a)\n",
    "a.pop(0)\n",
    "print(a)"
   ]
  },
  {
   "cell_type": "code",
   "execution_count": 19,
   "id": "307e8b00-438f-410e-8f07-202aad17e094",
   "metadata": {},
   "outputs": [
    {
     "name": "stdout",
     "output_type": "stream",
     "text": [
      "1 1\n",
      "1 10\n"
     ]
    },
    {
     "ename": "TypeError",
     "evalue": "'tuple' object does not support item assignment",
     "output_type": "error",
     "traceback": [
      "\u001b[0;31m---------------------------------------------------------------------------\u001b[0m",
      "\u001b[0;31mTypeError\u001b[0m                                 Traceback (most recent call last)",
      "Cell \u001b[0;32mIn[19], line 10\u001b[0m\n\u001b[1;32m      8\u001b[0m a[\u001b[38;5;241m0\u001b[39m]\u001b[38;5;241m=\u001b[39m\u001b[38;5;241m10\u001b[39m\n\u001b[1;32m      9\u001b[0m \u001b[38;5;28mprint\u001b[39m(t[\u001b[38;5;241m0\u001b[39m], a[\u001b[38;5;241m0\u001b[39m])\n\u001b[0;32m---> 10\u001b[0m \u001b[43mt\u001b[49m\u001b[43m[\u001b[49m\u001b[38;5;241;43m0\u001b[39;49m\u001b[43m]\u001b[49m\u001b[38;5;241m=\u001b[39m\u001b[38;5;241m10\u001b[39m \n",
      "\u001b[0;31mTypeError\u001b[0m: 'tuple' object does not support item assignment"
     ]
    }
   ],
   "source": [
    "#튜플 : 고칠 수 없는 자료형 (읽기전용) \n",
    "#데이터처리시 이름,주민번호 등 바뀌면 안되는 값에 대해서 튜플로 처리함.\n",
    "\n",
    "t = (1,2,3) #튜플\n",
    "a = [1,2,3] #리스트\n",
    "\n",
    "print(t[0], a[0])\n",
    "a[0]=10\n",
    "print(t[0], a[0])\n",
    "t[0]=10 "
   ]
  },
  {
   "cell_type": "code",
   "execution_count": 26,
   "id": "da11401e-cbfa-40d9-8e31-b25d4b6ae3a0",
   "metadata": {},
   "outputs": [
    {
     "name": "stdout",
     "output_type": "stream",
     "text": [
      "{1, 2, 3, 5}\n",
      "{1, 2, 3, 5}\n",
      "{1, 2, 3, 4, 5}\n",
      "{1, 2, 3, 4, 5, 7, 8}\n",
      "{1, 3, 4, 5, 7, 8}\n",
      "{1, 4, 5, 7, 8}\n",
      "set()\n"
     ]
    }
   ],
   "source": [
    "#세트 : 값을 순서없이, 중복을 불허하는 연산 (합집합)\n",
    "\n",
    "s = set([1,2,3,1,2,3,1,2,3,5])\n",
    "print(s) #중복을 깨끗하게 제거해줌\n",
    "s.add(2)\n",
    "print(s)\n",
    "s.add(4)\n",
    "print(s)\n",
    "s.update([1,3,7,8])\n",
    "print(s)\n",
    "s.remove(2)\n",
    "print(s)\n",
    "s.discard(3)\n",
    "print(s)\n",
    "s.clear()\n",
    "print(s)"
   ]
  },
  {
   "cell_type": "code",
   "execution_count": 33,
   "id": "bfe828ce-1aa8-43c6-aa14-9ee56135e818",
   "metadata": {},
   "outputs": [
    {
     "name": "stdout",
     "output_type": "stream",
     "text": [
      "{3, 4, 5}\n",
      "{3, 4, 5}\n",
      "{1, 2, 3, 4, 5, 6, 7}\n",
      "{1, 2, 3, 4, 5, 6, 7}\n",
      "{1, 2}\n",
      "{1, 2}\n"
     ]
    }
   ],
   "source": [
    "#합집합\n",
    "s1 = set([1,2,3,4,5])\n",
    "s2 = set([3,4,5,6,7])\n",
    "print(s1&s2)\n",
    "print(s1.intersection(s2))\n",
    "print(s1|s2)\n",
    "print(s1.union(s2))\n",
    "print(s1-s2)\n",
    "print(s1.difference(s2))"
   ]
  },
  {
   "cell_type": "code",
   "execution_count": 43,
   "id": "202740df-0e44-4282-9e95-65e9e9ceb55f",
   "metadata": {},
   "outputs": [
    {
     "name": "stdout",
     "output_type": "stream",
     "text": [
      "{'America': 1, 'Korea': 82, 'China': 86, 'Japan': 81, 'Gernamy': 49}\n",
      "dict_keys(['America', 'Korea', 'China', 'Japan', 'Gernamy'])\n",
      "dict_values([1, 82, 86, 81, 49])\n",
      "dict_items([('America', 1), ('Korea', 82), ('China', 86), ('Japan', 81), ('Gernamy', 49)])\n",
      "1\n",
      "1\n",
      "82\n"
     ]
    }
   ],
   "source": [
    "# Dictionary\n",
    "country_code = {\"America\":1,\"Korea\":82, \"China\":86, \"Japan\":81, \"Gernamy\":49}\n",
    "print(country_code)\n",
    "print(country_code.keys())\n",
    "print(country_code.values())\n",
    "print(country_code.items())\n",
    "\n",
    "print(country_code[\"America\"])\n",
    "print(country_code.get(\"America\"))\n",
    "print(country_code.get(\"Korea\"))"
   ]
  },
  {
   "cell_type": "code",
   "execution_count": 39,
   "id": "3ba41dcd-f19c-4e95-95cc-c02ef4a1e24d",
   "metadata": {},
   "outputs": [
    {
     "name": "stdout",
     "output_type": "stream",
     "text": [
      "America 1\n",
      "Korea 82\n",
      "China 86\n",
      "Japan 81\n",
      "Gernamy 49\n"
     ]
    }
   ],
   "source": [
    "# Unpacking\n",
    "for k,v in country_code.items():\n",
    "    print(k,v)"
   ]
  },
  {
   "cell_type": "code",
   "execution_count": 44,
   "id": "9f60e965-0ce2-4eff-91b6-c76085b888b1",
   "metadata": {},
   "outputs": [
    {
     "name": "stdin",
     "output_type": "stream",
     "text": [
      "당신의 MBTI 유형을 입력하세요 (예: INFP):  intj\n"
     ]
    },
    {
     "name": "stdout",
     "output_type": "stream",
     "text": [
      "\n",
      "[INTJ] 유형에게 어울리는 직업은 다음과 같습니다:\n",
      "👉 전략 컨설턴트, 데이터 과학자, 시스템 설계자\n"
     ]
    }
   ],
   "source": [
    "mbti_jobs = {\n",
    "    \"INTJ\": \"전략 컨설턴트, 데이터 과학자, 시스템 설계자\",\n",
    "    \"INTP\": \"연구원, 프로그래머, 이론 물리학자\",\n",
    "    \"ENTJ\": \"경영자, 프로젝트 매니저, 투자 분석가\",\n",
    "    \"ENTP\": \"스타트업 창업가, 마케터, 발명가\",\n",
    "    \"INFJ\": \"심리상담사, 작가, 사회운동가\",\n",
    "    \"INFP\": \"예술가, 작사가, 인권 활동가\",\n",
    "    \"ENFJ\": \"교사, HR 매니저, 커뮤니케이션 디렉터\",\n",
    "    \"ENFP\": \"기획자, 광고 크리에이터, 여행 작가\",\n",
    "    \"ISTJ\": \"회계사, 관리자, 공무원\",\n",
    "    \"ISFJ\": \"간호사, 사회복지사, 사서\",\n",
    "    \"ESTJ\": \"군인, 기업 관리자, 품질 관리자\",\n",
    "    \"ESFJ\": \"교사, 이벤트 플래너, 고객 서비스 매니저\",\n",
    "    \"ISTP\": \"기계 엔지니어, 파일럿, 정비사\",\n",
    "    \"ISFP\": \"패션 디자이너, 사진작가, 플로리스트\",\n",
    "    \"ESTP\": \"영업 전문가, 응급 구조사, 스포츠 코치\",\n",
    "    \"ESFP\": \"연예인, 여행 가이드, 쇼호스트\"\n",
    "}\n",
    "\n",
    "mbti = input(\"당신의 MBTI 유형을 입력하세요 (예: INFP): \").upper()\n",
    "\n",
    "job = mbti_jobs.get(mbti)\n",
    "\n",
    "if job:\n",
    "    print(f\"\\n[{mbti}] 유형에게 어울리는 직업은 다음과 같습니다:\\n👉 {job}\")\n",
    "else:\n",
    "    print(\"죄송해요. 해당 MBTI 유형은 데이터에 없어요. 🥲\")"
   ]
  },
  {
   "cell_type": "code",
   "execution_count": 51,
   "id": "35c74335-5011-458b-8a22-de42d20dc126",
   "metadata": {},
   "outputs": [
    {
     "name": "stdout",
     "output_type": "stream",
     "text": [
      "redbluegreenpurple\n",
      "red,blue,green,purple\n",
      "red blue green purple\n"
     ]
    }
   ],
   "source": [
    "# Python 스타일의 코드\n",
    "# join() : 문자열을 붙일때 편함\n",
    "colors = ['red','blue','green','purple']\n",
    "result = ''.join(colors)\n",
    "print(result)\n",
    "\n",
    "result2 = ','.join(colors)\n",
    "print(result2)\n",
    "\n",
    "result3 = ' '.join(colors)\n",
    "print(result3)"
   ]
  },
  {
   "cell_type": "code",
   "execution_count": 52,
   "id": "fc3c7631-7f3d-458d-91ed-13a97712b161",
   "metadata": {},
   "outputs": [
    {
     "name": "stdout",
     "output_type": "stream",
     "text": [
      "['The', 'Trump', 'administration', 'conceded', 'in', 'a', 'court', 'filing', 'Monday', 'that', 'it', 'mistakenly', 'deported', 'a', 'Maryland', 'father', 'to', 'El', 'Salvador', '“because', 'of', 'an', 'administrative', 'error”', 'and', 'argued', 'it', 'could', 'not', 'return', 'him', 'because', 'he’s', 'now', 'in', 'Salvadoran', 'custody']\n"
     ]
    }
   ],
   "source": [
    "#split() : 문자열을 떨어뜨릴때\n",
    "items = 'The Trump administration conceded in a court filing Monday that it mistakenly deported a Maryland father to El Salvador “because of an administrative error” and argued it could not return him because he’s now in Salvadoran custody'.split()\n",
    "print(items)"
   ]
  },
  {
   "cell_type": "code",
   "execution_count": 56,
   "id": "278b5d7e-4b83-46ef-9c0e-0f231b2af82e",
   "metadata": {},
   "outputs": [
    {
     "name": "stdout",
     "output_type": "stream",
     "text": [
      "['a', 'b', 'c', 'd']\n",
      "['www', 'naver', 'com']\n",
      "naver\n"
     ]
    }
   ],
   "source": [
    "# Unpacking : 내가 원하는것을 추출할수있음. 많이 쓰임.\n",
    "ex1 = \"a,b,c,d\"\n",
    "r1 = ex1.split(\",\")\n",
    "print(r1)\n",
    "\n",
    "ex2 = \"www.naver.com\"\n",
    "r2 = ex2.split(\".\")\n",
    "print(r2)\n",
    "\n",
    "subdomain,domain,tld=r2\n",
    "print(domain)"
   ]
  },
  {
   "cell_type": "code",
   "execution_count": 58,
   "id": "d828cd35-f55a-43a6-b0a8-d8235ab9d8da",
   "metadata": {},
   "outputs": [
    {
     "name": "stdout",
     "output_type": "stream",
     "text": [
      "[4400, 2200, 3300, 5500, 6600]\n"
     ]
    }
   ],
   "source": [
    "#리스트 컴프리헨션 : 기존 리스트형을 사용하여 간단하게 새로운 리스트를 만드는 기법. 리스트와 for문을 한줄에 사용할수있다는 장점이있음.\n",
    "wages = [4000,2000,3000,5000,6000]\n",
    "r_wages=[int(i*1.1) for i in wages]\n",
    "print(r_wages)"
   ]
  },
  {
   "cell_type": "code",
   "execution_count": null,
   "id": "8f9181bb-3c6c-48a6-b9eb-687ee885e7c4",
   "metadata": {},
   "outputs": [],
   "source": []
  },
  {
   "cell_type": "code",
   "execution_count": null,
   "id": "0fd079ea-e225-4202-8b7c-632bdd99a942",
   "metadata": {},
   "outputs": [],
   "source": []
  },
  {
   "cell_type": "code",
   "execution_count": 1,
   "id": "66d7f768-2f26-4140-bad2-66a55b29a1a7",
   "metadata": {},
   "outputs": [
    {
     "name": "stdout",
     "output_type": "stream",
     "text": [
      "unknown option: -version\n",
      "usage: git [--version] [--help] [-C <path>] [-c <name>=<value>]\n",
      "           [--exec-path[=<path>]] [--html-path] [--man-path] [--info-path]\n",
      "           [-p | --paginate | -P | --no-pager] [--no-replace-objects] [--bare]\n",
      "           [--git-dir=<path>] [--work-tree=<path>] [--namespace=<name>]\n",
      "           [--super-prefix=<path>] [--config-env=<name>=<envvar>]\n",
      "           <command> [<args>]\n"
     ]
    }
   ],
   "source": [
    "!git -version"
   ]
  },
  {
   "cell_type": "code",
   "execution_count": 2,
   "id": "ba4bf4eb-6c9f-4026-a377-236073cd49b4",
   "metadata": {},
   "outputs": [
    {
     "name": "stdout",
     "output_type": "stream",
     "text": [
      "git version 2.34.1\n"
     ]
    }
   ],
   "source": [
    "!git --version"
   ]
  },
  {
   "cell_type": "code",
   "execution_count": 3,
   "id": "fb6f3dc1-cb0b-4e65-997b-cc0461fd6483",
   "metadata": {},
   "outputs": [
    {
     "name": "stdout",
     "output_type": "stream",
     "text": [
      "\u001b[33mhint: Using 'master' as the name for the initial branch. This default branch name\u001b[m\n",
      "\u001b[33mhint: is subject to change. To configure the initial branch name to use in all\u001b[m\n",
      "\u001b[33mhint: of your new repositories, which will suppress this warning, call:\u001b[m\n",
      "\u001b[33mhint: \u001b[m\n",
      "\u001b[33mhint: \tgit config --global init.defaultBranch <name>\u001b[m\n",
      "\u001b[33mhint: \u001b[m\n",
      "\u001b[33mhint: Names commonly chosen instead of 'master' are 'main', 'trunk' and\u001b[m\n",
      "\u001b[33mhint: 'development'. The just-created branch can be renamed via this command:\u001b[m\n",
      "\u001b[33mhint: \u001b[m\n",
      "\u001b[33mhint: \tgit branch -m <name>\u001b[m\n",
      "Initialized empty Git repository in /home/mingi1121/.git/\n"
     ]
    }
   ],
   "source": [
    "!git init"
   ]
  },
  {
   "cell_type": "code",
   "execution_count": 5,
   "id": "e2059806-0304-499a-a16b-57598eed6be7",
   "metadata": {},
   "outputs": [],
   "source": [
    "!git config --global user.name \"devminki\"\n",
    "!git config --global user.email \"devminki@gmail.com\""
   ]
  },
  {
   "cell_type": "code",
   "execution_count": 6,
   "id": "3f29037a-0c51-4d0e-b875-1240343b64d5",
   "metadata": {},
   "outputs": [
    {
     "name": "stdout",
     "output_type": "stream",
     "text": [
      "devminki\n"
     ]
    }
   ],
   "source": [
    "!git config user.name"
   ]
  },
  {
   "cell_type": "code",
   "execution_count": 7,
   "id": "230d27a1-b0b4-4b88-a3ab-9913f8666885",
   "metadata": {},
   "outputs": [
    {
     "name": "stdout",
     "output_type": "stream",
     "text": [
      "devminki@gmail.com\n"
     ]
    }
   ],
   "source": [
    "!git config user.email"
   ]
  },
  {
   "cell_type": "code",
   "execution_count": 8,
   "id": "9ff85889-2481-4a3f-a472-938652837abb",
   "metadata": {},
   "outputs": [
    {
     "name": "stdout",
     "output_type": "stream",
     "text": [
      "On branch master\n",
      "\n",
      "No commits yet\n",
      "\n",
      "Untracked files:\n",
      "  (use \"git add <file>...\" to include in what will be committed)\n",
      "\t\u001b[31m.gitconfig\u001b[m\n",
      "\t\u001b[31m.ipynb_checkpoints/\u001b[m\n",
      "\t\u001b[31m.ipython/\u001b[m\n",
      "\t\u001b[31m.jupyter/\u001b[m\n",
      "\t\u001b[31m.local/\u001b[m\n",
      "\t\u001b[31m.npm/\u001b[m\n",
      "\t\u001b[31m.ssh/\u001b[m\n",
      "\t\u001b[31m2nd.ipynb\u001b[m\n",
      "\t\u001b[31mPR3.ipynb\u001b[m\n",
      "\t\u001b[31m\"PR4_\\352\\271\\200\\353\\257\\274\\352\\270\\260.ipynb\"\u001b[m\n",
      "\t\u001b[31m\"PR5_\\352\\271\\200\\353\\257\\274\\352\\270\\260.ipynb\"\u001b[m\n",
      "\t\u001b[31m\"PR6_\\352\\271\\200\\353\\257\\274\\352\\270\\260.ipynb\"\u001b[m\n",
      "\t\u001b[31mtestsetup.ipynb\u001b[m\n",
      "\n",
      "nothing added to commit but untracked files present (use \"git add\" to track)\n"
     ]
    }
   ],
   "source": [
    "!git status"
   ]
  },
  {
   "cell_type": "code",
   "execution_count": 9,
   "id": "a392177f-90f9-4e2c-a09e-bee73004bb5c",
   "metadata": {},
   "outputs": [],
   "source": [
    "#원격 리포지토리 연결\n",
    "!git remote add origin \"https://github.com/devminki/ajoumba.git\""
   ]
  },
  {
   "cell_type": "code",
   "execution_count": 10,
   "id": "bb4b2725-39db-447c-af73-abc3438211a2",
   "metadata": {},
   "outputs": [
    {
     "name": "stdout",
     "output_type": "stream",
     "text": [
      "On branch master\n",
      "\n",
      "No commits yet\n",
      "\n",
      "Untracked files:\n",
      "  (use \"git add <file>...\" to include in what will be committed)\n",
      "\t\u001b[31m.gitconfig\u001b[m\n",
      "\t\u001b[31m.ipynb_checkpoints/\u001b[m\n",
      "\t\u001b[31m.ipython/\u001b[m\n",
      "\t\u001b[31m.jupyter/\u001b[m\n",
      "\t\u001b[31m.local/\u001b[m\n",
      "\t\u001b[31m.npm/\u001b[m\n",
      "\t\u001b[31m.ssh/\u001b[m\n",
      "\t\u001b[31m2nd.ipynb\u001b[m\n",
      "\t\u001b[31mPR3.ipynb\u001b[m\n",
      "\t\u001b[31m\"PR4_\\352\\271\\200\\353\\257\\274\\352\\270\\260.ipynb\"\u001b[m\n",
      "\t\u001b[31m\"PR5_\\352\\271\\200\\353\\257\\274\\352\\270\\260.ipynb\"\u001b[m\n",
      "\t\u001b[31m\"PR6_\\352\\271\\200\\353\\257\\274\\352\\270\\260.ipynb\"\u001b[m\n",
      "\t\u001b[31mtestsetup.ipynb\u001b[m\n",
      "\n",
      "nothing added to commit but untracked files present (use \"git add\" to track)\n"
     ]
    }
   ],
   "source": [
    "!git status"
   ]
  },
  {
   "cell_type": "code",
   "execution_count": 11,
   "id": "6bb4afc6-175b-493c-995d-a29f72ab5454",
   "metadata": {},
   "outputs": [],
   "source": [
    "!git branch -m master main"
   ]
  },
  {
   "cell_type": "code",
   "execution_count": 12,
   "id": "aa45dcd2-8424-4654-8b2d-b196297076d1",
   "metadata": {},
   "outputs": [
    {
     "name": "stdout",
     "output_type": "stream",
     "text": [
      "error: refname refs/heads/master not found\n",
      "fatal: Branch rename failed\n"
     ]
    }
   ],
   "source": [
    "!git branch -m master main"
   ]
  },
  {
   "cell_type": "code",
   "execution_count": 13,
   "id": "6e2d42e5-3045-444e-b34a-5b239f9d79ae",
   "metadata": {},
   "outputs": [
    {
     "name": "stdout",
     "output_type": "stream",
     "text": [
      "remote: Enumerating objects: 6, done.\u001b[K\n",
      "remote: Counting objects: 100% (6/6), done.\u001b[K\n",
      "remote: Compressing objects: 100% (2/2), done.\u001b[K\n",
      "remote: Total 6 (delta 0), reused 0 (delta 0), pack-reused 0 (from 0)\u001b[K\n",
      "Unpacking objects: 100% (6/6), 1.74 KiB | 127.00 KiB/s, done.\n",
      "From https://github.com/devminki/ajoumba\n",
      " * branch            main       -> FETCH_HEAD\n",
      " * [new branch]      main       -> origin/main\n"
     ]
    }
   ],
   "source": [
    "!git pull origin main"
   ]
  },
  {
   "cell_type": "code",
   "execution_count": null,
   "id": "c6de3ee6-5bcc-4bc6-ae3a-7507998537e9",
   "metadata": {},
   "outputs": [],
   "source": []
  }
 ],
 "metadata": {
  "kernelspec": {
   "display_name": "Python 3 (ipykernel)",
   "language": "python",
   "name": "python3"
  },
  "language_info": {
   "codemirror_mode": {
    "name": "ipython",
    "version": 3
   },
   "file_extension": ".py",
   "mimetype": "text/x-python",
   "name": "python",
   "nbconvert_exporter": "python",
   "pygments_lexer": "ipython3",
   "version": "3.11.6"
  }
 },
 "nbformat": 4,
 "nbformat_minor": 5
}
